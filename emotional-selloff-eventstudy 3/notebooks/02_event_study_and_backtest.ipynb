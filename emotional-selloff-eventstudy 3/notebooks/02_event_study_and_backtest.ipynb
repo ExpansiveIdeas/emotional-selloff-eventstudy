
{
 "cells": [
  {
   "cell_type": "markdown",
   "source": [
    "# Emotional Sell-Off Event Study\n",
    "Run this notebook to analyze panic-sell vs hold outcomes around 10% SPY drops."
   ]
  }
 ],
 "metadata": {},
 "nbformat": 4,
 "nbformat_minor": 5
}
